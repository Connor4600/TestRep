{
 "cells": [
  {
   "cell_type": "code",
   "execution_count": 52,
   "id": "93201abe-e7c9-491f-92a5-8c3a682a2481",
   "metadata": {},
   "outputs": [],
   "source": [
    "import numpy as np\n",
    "import numpy.linalg as la\n",
    "import math\n",
    "import matplotlib.pyplot as plt\n",
    "import random"
   ]
  },
  {
   "cell_type": "code",
   "execution_count": 54,
   "id": "8413f3f2-de55-4c5c-924b-fe2aef2a8b57",
   "metadata": {},
   "outputs": [],
   "source": [
    "# import libraries\n",
    "import numpy as np\n",
    "\n",
    "\n",
    "# define routines\n",
    "def bisection(f,a,b,tol):\n",
    "    \n",
    "#    Inputs:\n",
    "#     f,a,b       - function and endpoints of initial interval\n",
    "#      tol  - bisection stops when interval length < tol\n",
    "\n",
    "#    Returns:\n",
    "#      astar - approximation of root\n",
    "#      ier   - error message\n",
    "#            - ier = 1 => Failed\n",
    "#            - ier = 0 == success\n",
    "\n",
    "#     first verify there is a root we can find in the interval \n",
    "\n",
    "    fa = f(a)\n",
    "    fb = f(b);\n",
    "    if (fa*fb>0):\n",
    "        ier = 1\n",
    "        astar = a\n",
    "        return [astar, ier]\n",
    "\n",
    "#   verify end points are not a root \n",
    "    if (fa == 0):\n",
    "        astar = a\n",
    "        ier =0\n",
    "        return [astar, ier]\n",
    "\n",
    "    if (fb == 0):\n",
    "        astar = b\n",
    "        ier = 0\n",
    "        return [astar, ier]\n",
    "\n",
    "    count = 0\n",
    "    d = 0.5*(a+b)\n",
    "    while (abs(d-a)> tol):\n",
    "        fd = f(d)\n",
    "        if (fd ==0):\n",
    "            astar = d\n",
    "            ier = 0\n",
    "            return [astar, ier]\n",
    "        if (fa*fd<0):\n",
    "            b = d\n",
    "        else: \n",
    "            a = d\n",
    "            fa = fd\n",
    "        d = 0.5*(a+b)\n",
    "        count = count +1\n",
    "#      print('abs(d-a) = ', abs(d-a))\n",
    "      \n",
    "    astar = d\n",
    "    ier = 0\n",
    "    return [astar, ier]\n",
    "                   \n"
   ]
  },
  {
   "cell_type": "code",
   "execution_count": 55,
   "id": "cf40b210-6d51-4d5a-a6cc-5f7492ffa8d5",
   "metadata": {},
   "outputs": [
    {
     "name": "stdout",
     "output_type": "stream",
     "text": [
      "the approximate root is 0.9999999701976776\n",
      "the error message reads: 0\n",
      "f(astar) = -2.98023206113385e-08\n"
     ]
    }
   ],
   "source": [
    "def driver1a():\n",
    "\n",
    "# use routines    \n",
    "    f = lambda x: x**2*(x-1)\n",
    "    a = 0.5\n",
    "    b = 2\n",
    "\n",
    "    #    f = lambda x: np.sin(x)\n",
    "    #    a = 0.1\n",
    "    #    b = np.pi+0.1\n",
    "\n",
    "    tol = 1e-7\n",
    "\n",
    "    [astar,ier] = bisection(f,a,b,tol)\n",
    "    print('the approximate root is',astar)\n",
    "    print('the error message reads:',ier)\n",
    "    print('f(astar) =', f(astar))\n",
    "    \n",
    "driver1a()  "
   ]
  },
  {
   "cell_type": "markdown",
   "id": "5ab39770-04f1-420c-9428-f43e864cf6f8",
   "metadata": {},
   "source": [
    "For 1a the method is successful because the function changes sign when it passes through a root."
   ]
  },
  {
   "cell_type": "code",
   "execution_count": 3,
   "id": "c5d19db4-5fe7-4224-a150-72a2c8dd185d",
   "metadata": {},
   "outputs": [
    {
     "name": "stdout",
     "output_type": "stream",
     "text": [
      "the approximate root is -1\n",
      "the error message reads: 1\n",
      "f(astar) = -2\n"
     ]
    }
   ],
   "source": [
    "def driver1b():\n",
    "\n",
    "# use routines    \n",
    "    f = lambda x: x**2*(x-1)\n",
    "    a = -1\n",
    "    b = 0.5\n",
    "\n",
    "\n",
    "    tol = 1e-7\n",
    "\n",
    "    [astar,ier] = bisection(f,a,b,tol)\n",
    "    print('the approximate root is',astar)\n",
    "    print('the error message reads:',ier)\n",
    "    print('f(astar) =', f(astar))\n",
    "    \n",
    "driver1b()\n",
    "\n"
   ]
  },
  {
   "cell_type": "markdown",
   "id": "5aa3362c-2829-4ed4-8c4f-55321eda4d8a",
   "metadata": {},
   "source": [
    "For 1b the method is not successful because the function does not change sign when it passes through a root. Therefore, it claims the root is one of the endpoints"
   ]
  },
  {
   "cell_type": "code",
   "execution_count": 4,
   "id": "f002aa79-e658-4d6e-adb5-432eb1135435",
   "metadata": {},
   "outputs": [
    {
     "name": "stdout",
     "output_type": "stream",
     "text": [
      "the approximate root is 0.9999999701976776\n",
      "the error message reads: 0\n",
      "f(astar) = -2.98023206113385e-08\n"
     ]
    }
   ],
   "source": [
    "def driver1c():\n",
    "\n",
    "# use routines    \n",
    "    f = lambda x: x**2*(x-1)\n",
    "    a = -1\n",
    "    b = 2\n",
    "\n",
    "    #    f = lambda x: np.sin(x)\n",
    "    #    a = 0.1\n",
    "    #    b = np.pi+0.1\n",
    "\n",
    "    tol = 1e-7\n",
    "\n",
    "    [astar,ier] = bisection(f,a,b,tol)\n",
    "    print('the approximate root is',astar)\n",
    "    print('the error message reads:',ier)\n",
    "    print('f(astar) =', f(astar))\n",
    "    \n",
    "driver1c()"
   ]
  },
  {
   "cell_type": "markdown",
   "id": "10ee9cc1-c854-401e-a0d5-4634e0158c24",
   "metadata": {},
   "source": [
    "For 1c the the method is successful"
   ]
  },
  {
   "cell_type": "code",
   "execution_count": 5,
   "id": "56c1a0d2-bccb-43a0-8671-b8b443f7a08c",
   "metadata": {},
   "outputs": [
    {
     "name": "stdout",
     "output_type": "stream",
     "text": [
      "the approximate root is 1.0000030517578122\n",
      "the error message reads: 0\n",
      "f(astar) = 2.4414006618542327e-05\n"
     ]
    }
   ],
   "source": [
    "def driver2a():\n",
    "\n",
    "# use routines    \n",
    "    f = lambda x: (x-1)*(x-3)*(x-5)\n",
    "    a = 0\n",
    "    b = 2.4\n",
    "\n",
    "    tol = 10**(-5)\n",
    "\n",
    "    [astar,ier] = bisection(f,a,b,tol)\n",
    "    print('the approximate root is',astar)\n",
    "    print('the error message reads:',ier)\n",
    "    print('f(astar) =', f(astar))\n",
    "    \n",
    "    \n",
    "driver2a()"
   ]
  },
  {
   "cell_type": "markdown",
   "id": "65509d3b-436e-4582-b84d-a35dc501f308",
   "metadata": {},
   "source": [
    "For 2a the method is successful, with desired accuracy."
   ]
  },
  {
   "cell_type": "code",
   "execution_count": 6,
   "id": "f6284305-8656-4355-8372-8a4d92b094f6",
   "metadata": {},
   "outputs": [
    {
     "name": "stdout",
     "output_type": "stream",
     "text": [
      "the approximate root is 0\n",
      "the error message reads: 1\n",
      "f(astar) = -3\n"
     ]
    }
   ],
   "source": [
    "def driver2b():\n",
    "\n",
    "# use routines    \n",
    "    f = lambda x: (x-1)**2*(x-3)\n",
    "    a = 0\n",
    "    b = 2\n",
    "\n",
    "    #    f = lambda x: np.sin(x)\n",
    "    #    a = 0.1\n",
    "    #    b = np.pi+0.1\n",
    "\n",
    "    tol = 10**(-5)\n",
    "\n",
    "    [astar,ier] = bisection(f,a,b,tol)\n",
    "    print('the approximate root is',astar)\n",
    "    print('the error message reads:',ier)\n",
    "    print('f(astar) =', f(astar))\n",
    "    \n",
    "driver2b()"
   ]
  },
  {
   "cell_type": "markdown",
   "id": "d87d222f-6404-4a0e-8437-6aca7b5a32fc",
   "metadata": {},
   "source": [
    "For 2b the method is not successful because there is a second order root"
   ]
  },
  {
   "cell_type": "code",
   "execution_count": 7,
   "id": "ca111715-979b-4ab5-8989-cecc4482ea8f",
   "metadata": {},
   "outputs": [
    {
     "name": "stdout",
     "output_type": "stream",
     "text": [
      "the approximate root is 0\n",
      "the error message reads: 0\n",
      "f(astar) = 0.0\n"
     ]
    }
   ],
   "source": [
    "def driver2c():\n",
    "\n",
    "# use routines    \n",
    "    f = lambda x: np.sin(x)\n",
    "    a = 0\n",
    "    b = 0.1\n",
    "\n",
    "    tol = 10**(-5)\n",
    "\n",
    "    [astar,ier] = bisection(f,a,b,tol)\n",
    "    print('the approximate root is',astar)\n",
    "    print('the error message reads:',ier)\n",
    "    print('f(astar) =', f(astar))\n",
    "    \n",
    "driver2c()"
   ]
  },
  {
   "cell_type": "markdown",
   "id": "bed1fcd6-4cda-43b5-ac97-734d518f11dd",
   "metadata": {},
   "source": [
    "For 2c.1, the method is successful because there is root at one of the endpoints"
   ]
  },
  {
   "cell_type": "code",
   "execution_count": 8,
   "id": "164c1746-8ad7-424c-8b7b-ef9a4803674c",
   "metadata": {},
   "outputs": [
    {
     "name": "stdout",
     "output_type": "stream",
     "text": [
      "the approximate root is 0.5\n",
      "the error message reads: 1\n",
      "f(astar) = 0.479425538604203\n"
     ]
    }
   ],
   "source": [
    "def driver2c2():\n",
    "\n",
    "# use routines    \n",
    "    f = lambda x: np.sin(x)\n",
    "    a = 0.5\n",
    "    b = 3*np.pi/4\n",
    "\n",
    "    #    f = lambda x: np.sin(x)\n",
    "    #    a = 0.1\n",
    "    #    b = np.pi+0.1\n",
    "\n",
    "    tol = 10**(-5)\n",
    "\n",
    "    [astar,ier] = bisection(f,a,b,tol)\n",
    "    print('the approximate root is',astar)\n",
    "    print('the error message reads:',ier)\n",
    "    print('f(astar) =', f(astar))\n",
    "    \n",
    "driver2c2()"
   ]
  },
  {
   "cell_type": "markdown",
   "id": "d593e91f-1f42-4f22-958d-5e8b9db8d539",
   "metadata": {},
   "source": [
    "For 2c.2 the method is not successful because there is no root inside the interval, so it is just grabbing one of the endpoints."
   ]
  },
  {
   "cell_type": "code",
   "execution_count": 9,
   "id": "ae5d7d3a-4a1a-4e1c-9c9a-b11e43dea1d9",
   "metadata": {},
   "outputs": [
    {
     "name": "stdout",
     "output_type": "stream",
     "text": [
      "the approximate fixed point is: 1.49870112602244\n",
      "f1(xstar): 1.4987011332478908\n",
      "Error message reads: 0\n",
      "the approximate fixed point is: 4.683823131060242\n",
      "f2(xstar): 1.0008159522600826\n",
      "Error message reads: 1\n"
     ]
    }
   ],
   "source": [
    "# import libraries\n",
    "import numpy as np\n",
    "    \n",
    "def driver():\n",
    "\n",
    "# test functions \n",
    "    f1 = lambda x: 1+0.5*np.sin(x)\n",
    "# fixed point is alpha1 = 1.4987....\n",
    "\n",
    "    f2 = lambda x: 3+2*np.sin(x)\n",
    "#fixed point is alpha2 = 3.09... \n",
    "\n",
    "    Nmax = 100\n",
    "    tol = 1e-6\n",
    "\n",
    "# test f1 '''\n",
    "    x0 = 0.0\n",
    "    [xstar,ier] = fixedpt(f1,x0,tol,Nmax)\n",
    "    print('the approximate fixed point is:',xstar)\n",
    "    print('f1(xstar):',f1(xstar))\n",
    "    print('Error message reads:',ier)\n",
    "    \n",
    "#test f2 '''\n",
    "    x0 = 0.0\n",
    "    [xstar,ier] = fixedpt(f2,x0,tol,Nmax)\n",
    "    print('the approximate fixed point is:',xstar)\n",
    "    print('f2(xstar):',f2(xstar))\n",
    "    print('Error message reads:',ier)\n",
    "\n",
    "\n",
    "\n",
    "# define routines\n",
    "def fixedpt(f,x0,tol,Nmax):\n",
    "\n",
    "    ''' x0 = initial guess''' \n",
    "    ''' Nmax = max number of iterations'''\n",
    "    ''' tol = stopping tolerance'''\n",
    "\n",
    "    count = 0\n",
    "    while (count <Nmax):\n",
    "        count = count +1\n",
    "        x1 = f(x0)\n",
    "        if (abs(x1-x0) <tol):\n",
    "            xstar = x1\n",
    "            ier = 0\n",
    "            return [xstar,ier]\n",
    "        x0 = x1\n",
    "\n",
    "    xstar = x1\n",
    "    ier = 1\n",
    "    return [xstar, ier]\n",
    "    \n",
    "\n",
    "driver()"
   ]
  },
  {
   "cell_type": "code",
   "execution_count": null,
   "id": "ab54f33a-020c-4be1-a286-bb32c50fd798",
   "metadata": {},
   "outputs": [],
   "source": []
  }
 ],
 "metadata": {
  "kernelspec": {
   "display_name": "Python 3 (ipykernel)",
   "language": "python",
   "name": "python3"
  },
  "language_info": {
   "codemirror_mode": {
    "name": "ipython",
    "version": 3
   },
   "file_extension": ".py",
   "mimetype": "text/x-python",
   "name": "python",
   "nbconvert_exporter": "python",
   "pygments_lexer": "ipython3",
   "version": "3.9.13"
  }
 },
 "nbformat": 4,
 "nbformat_minor": 5
}
