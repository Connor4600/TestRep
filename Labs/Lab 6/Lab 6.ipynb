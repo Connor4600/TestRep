{
 "cells": [
  {
   "cell_type": "markdown",
   "id": "7796d54b-875f-411e-8171-96347f725791",
   "metadata": {},
   "source": [
    "# Lab 6"
   ]
  },
  {
   "cell_type": "code",
   "execution_count": 1,
   "id": "4ab01012-2059-462e-8529-1f4dcee1f886",
   "metadata": {},
   "outputs": [],
   "source": [
    "import numpy as np"
   ]
  },
  {
   "cell_type": "markdown",
   "id": "ad780af7-32bc-4b29-bd11-3ceb60af26cf",
   "metadata": {},
   "source": [
    "### Prelab"
   ]
  },
  {
   "cell_type": "code",
   "execution_count": 2,
   "id": "f1271bec-5402-4c8d-8c06-358f5b3ad7eb",
   "metadata": {},
   "outputs": [
    {
     "name": "stdout",
     "output_type": "stream",
     "text": [
      "[1.000000e-02 5.000000e-03 2.500000e-03 1.250000e-03 6.250000e-04\n",
      " 3.125000e-04 1.562500e-04 7.812500e-05 3.906250e-05 1.953125e-05]\n"
     ]
    }
   ],
   "source": [
    "a = np.arange(0, 10)\n",
    "h = 0.01/2**(np.arange(0,10))\n",
    "print(h)"
   ]
  },
  {
   "cell_type": "code",
   "execution_count": 3,
   "id": "81a1f106-583f-4a66-908e-945b3f9d8d40",
   "metadata": {},
   "outputs": [],
   "source": [
    "f1 = lambda h: (np.cos(np.pi/2 + h) - np.cos(np.pi/2))/h\n",
    "f2 = lambda h: (np.cos(np.pi/2 + h) - np.cos(np.pi/2 - h))/(2*h)"
   ]
  },
  {
   "cell_type": "code",
   "execution_count": 4,
   "id": "2ba0d0a1-46d8-4a6f-b7a8-bb92ea8fe63e",
   "metadata": {},
   "outputs": [
    {
     "name": "stdout",
     "output_type": "stream",
     "text": [
      "-0.9999833334166673\n",
      "-0.9999958333385205\n",
      "-0.9999989583336375\n",
      "-0.9999997395833322\n",
      "-0.999999934895991\n",
      "-0.9999999837237595\n",
      "-0.9999999959315011\n",
      "-0.9999999989818379\n",
      "-0.9999999997447773\n",
      "-0.9999999999355124\n",
      "[nan, 1.8414709848078967, 1.454648713412841, 1.0470400026866225, 0.810799376173018, 0.8082151450673724, 0.953430750300179, 1.0938552283883984, 1.1236697808279228, 1.0457909428046397]\n"
     ]
    },
    {
     "name": "stderr",
     "output_type": "stream",
     "text": [
      "C:\\Users\\Conno\\AppData\\Local\\Temp\\ipykernel_21116\\2022567319.py:1: RuntimeWarning: invalid value encountered in scalar divide\n",
      "  f1 = lambda h: (np.cos(np.pi/2 + h) - np.cos(np.pi/2))/h\n",
      "C:\\Users\\Conno\\AppData\\Local\\Temp\\ipykernel_21116\\2022567319.py:2: RuntimeWarning: invalid value encountered in scalar divide\n",
      "  f2 = lambda h: (np.cos(np.pi/2 + h) - np.cos(np.pi/2 - h))/(2*h)\n"
     ]
    }
   ],
   "source": [
    "for i in h:\n",
    "    print(f1(i))\n",
    "\n",
    "f1_errors = []\n",
    "f2_errors = []\n",
    "for i in range(len(h)):\n",
    "    error_f1 = abs(f1(i) - np.sin(np.pi/2))\n",
    "    f1_errors.append(error_f1)\n",
    "    \n",
    "    error_f2 = abs(f2(i) - np.sin(np.pi/2))\n",
    "    f2_errors.append(error_f2)\n",
    "\n",
    "print(f1_errors)\n",
    "    \n",
    "    # x_secant = x1_secant - f(x1_secant)*(x1_secant - x0_secant)/(f(x1_secant) - f(x0_secant))\n",
    "    # x0_secant, x1_secant = x1_secant, x_secant\n",
    "    # error_secant = abs(x1_secant - alpha)\n",
    "    # errors_secant.append(error_secant)"
   ]
  },
  {
   "cell_type": "code",
   "execution_count": 5,
   "id": "24de5a5a-b3e6-4d72-8846-7cac17ca4db4",
   "metadata": {},
   "outputs": [
    {
     "name": "stdout",
     "output_type": "stream",
     "text": [
      "-0.9999833334166673\n",
      "-0.9999958333385205\n",
      "-0.9999989583336376\n",
      "-0.9999997395833324\n",
      "-0.9999999348959908\n",
      "-0.9999999837237594\n",
      "-0.9999999959315011\n",
      "-0.9999999989818379\n",
      "-0.9999999997447773\n",
      "-0.9999999999355121\n"
     ]
    }
   ],
   "source": [
    "for i in h:\n",
    "    print(f2(i))"
   ]
  },
  {
   "cell_type": "markdown",
   "id": "6acd6748-a238-4dba-8e89-2873ef087cdf",
   "metadata": {},
   "source": [
    "Converges Linearly"
   ]
  },
  {
   "cell_type": "markdown",
   "id": "19b7a0cf-2c4b-4d31-b13a-b08f2920210d",
   "metadata": {},
   "source": [
    "## Question 3.2"
   ]
  },
  {
   "cell_type": "code",
   "execution_count": 22,
   "id": "70ec4f8b-30e0-4769-92e7-133811e2a9de",
   "metadata": {},
   "outputs": [
    {
     "name": "stdout",
     "output_type": "stream",
     "text": [
      "[ 0.99860694 -0.10553049]\n",
      "Newton: the error message reads: 0\n",
      "Newton: took this many seconds: 0.00017077445983886718\n",
      "Netwon: number of iterations is: 3\n",
      "[ 0.99860694 -0.10553049]\n",
      "Lazy Newton: the error message reads: 0\n",
      "Lazy Newton: took this many seconds: 0.000148773193359375\n",
      "Lazy Newton: number of iterations is: 7\n",
      "[ 0.99860694 -0.10553049]\n",
      "Broyden: the error message reads: 0\n",
      "Broyden: took this many seconds: 0.00027421712875366213\n",
      "Broyden: number of iterations is: 4\n",
      "[ 0.99860694 -0.10553049]\n",
      "Slacker Newton: the error message reads: 0\n",
      "Slacker Newton: took this many seconds: 0.0005488991737365723\n",
      "Slacker Newton: number of iterations is: 4\n",
      "[ 0.99860694 -0.10553049]\n",
      "Slacker Newton Approx J: the error message reads: 0\n",
      "Slacker Newton Approx J: took this many seconds: 0.0002997875213623047\n",
      "Slacker Newton Approx J: number of iterations is: 5\n"
     ]
    }
   ],
   "source": [
    "import numpy as np\n",
    "import math\n",
    "import time\n",
    "from numpy.linalg import inv\n",
    "from numpy.linalg import norm\n",
    "def driver():\n",
    "    x0 = np.array([1, 0])\n",
    "    Nmax = 100\n",
    "    tol = 1e-10\n",
    "    t = time.time()\n",
    "    for j in range(50):\n",
    "        [xstar,ier,its] = Newton(x0,tol,Nmax)\n",
    "    elapsed = time.time()-t\n",
    "    print(xstar)\n",
    "    print('Newton: the error message reads:',ier)\n",
    "    print('Newton: took this many seconds:',elapsed/50)\n",
    "    print('Netwon: number of iterations is:',its)\n",
    "    t = time.time()\n",
    "    for j in range(20):\n",
    "        [xstar,ier,its] = LazyNewton(x0,tol,Nmax)\n",
    "    elapsed = time.time()-t\n",
    "    print(xstar)\n",
    "    print('Lazy Newton: the error message reads:',ier)\n",
    "    print('Lazy Newton: took this many seconds:',elapsed/20)\n",
    "    print('Lazy Newton: number of iterations is:',its)\n",
    "    t = time.time()\n",
    "    for j in range(20):\n",
    "        [xstar,ier,its] = Broyden(x0, tol,Nmax)\n",
    "    elapsed = time.time()-t\n",
    "    print(xstar)\n",
    "    print('Broyden: the error message reads:',ier)\n",
    "    print('Broyden: took this many seconds:',elapsed/20)\n",
    "    print('Broyden: number of iterations is:',its)\n",
    "    for j in range(20):\n",
    "        [xstar,ier,its] = SlackerNewton(x0,tol,Nmax)\n",
    "    elapsed = time.time()-t\n",
    "    print(xstar)\n",
    "    print('Slacker Newton: the error message reads:',ier)\n",
    "    print('Slacker Newton: took this many seconds:',elapsed/20)\n",
    "    print('Slacker Newton: number of iterations is:',its)\n",
    "    t = time.time()\n",
    "    for j in range(20):\n",
    "        [xstar,ier,its] = SlackerNewton_approxJ(x0,tol,Nmax)\n",
    "    elapsed = time.time()-t\n",
    "    print(xstar)\n",
    "    print('Slacker Newton Approx J: the error message reads:',ier)\n",
    "    print('Slacker Newton Approx J: took this many seconds:',elapsed/20)\n",
    "    print('Slacker Newton Approx J: number of iterations is:',its)\n",
    "    t = time.time()\n",
    "    \n",
    "def evalF(x):\n",
    "    F = np.zeros(2)\n",
    "    F[0] = 4*x[0]**2 + x[1]**2 - 4\n",
    "    F[1] = x[0] + x[1] - np.sin(x[0] - x[1])\n",
    "    return F\n",
    "\n",
    "def evalJ(x):\n",
    "    J = np.array([[8*x[0], 2*x[1]], [1 - np.cos(x[0] - x[1]), 1 + np.cos(x[0] - x[1])]])\n",
    "    return J\n",
    "\n",
    "    \n",
    "def Newton(x0,tol,Nmax):\n",
    "    ''' inputs: x0 = initial guess, tol = tolerance, Nmax = max its'''\n",
    "    ''' Outputs: xstar= approx root, ier = error message, its = num its'''\n",
    "    for its in range(Nmax):\n",
    "        J = evalJ(x0)\n",
    "        Jinv = inv(J)\n",
    "        F = evalF(x0)\n",
    "        x1 = x0 - np.dot(Jinv, F)\n",
    "        if (norm(x1-x0) < tol):\n",
    "            xstar = x1\n",
    "            ier =0\n",
    "            return[xstar, ier, its]\n",
    "        x0 = x1\n",
    "    xstar = x1\n",
    "    ier = 1\n",
    "    return[xstar,ier,its]\n",
    "\n",
    "def LazyNewton(x0,tol,Nmax):\n",
    "    ''' Lazy Newton = use only the inverse of the Jacobian for initial guess'''\n",
    "    ''' inputs: x0 = initial guess, tol = tolerance, Nmax = max its'''\n",
    "    ''' Outputs: xstar= approx root, ier = error message, its = num its'''\n",
    "    J = evalJ(x0)\n",
    "    Jinv = inv(J)\n",
    "    for its in range(Nmax):\n",
    "        F = evalF(x0)\n",
    "        x1 = x0 - Jinv.dot(F)\n",
    "        if (norm(x1-x0) < tol):\n",
    "            xstar = x1\n",
    "            ier =0\n",
    "            return[xstar, ier,its]\n",
    "        x0 = x1\n",
    "    xstar = x1\n",
    "    ier = 1\n",
    "    return[xstar,ier,its]\n",
    "\n",
    "def Broyden(x0,tol,Nmax):\n",
    "    '''tol = desired accuracy\n",
    "    Nmax = max number of iterations'''\n",
    "    '''Sherman-Morrison\n",
    "    (A+xy^T)^{-1} = A^{-1}-1/p*(A^{-1}xy^TA^{-1})\n",
    "    where p = 1+y^TA^{-1}Ax'''\n",
    "    '''In Newton\n",
    "    x_k+1 = xk -(G(x_k))^{-1}*F(x_k)'''\n",
    "    '''In Broyden\n",
    "    x = [F(xk)-F(xk-1)-\\hat{G}_k-1(xk-xk-1)\n",
    "    y = x_k-x_k-1/||x_k-x_k-1||^2'''\n",
    "    ''' implemented as in equation (10.16) on page 650 of text'''\n",
    "    '''initialize with 1 newton step'''\n",
    "    A0 = evalJ(x0)\n",
    "    v = evalF(x0)\n",
    "    A = np.linalg.inv(A0)\n",
    "    s = -A.dot(v)\n",
    "    xk = x0+s\n",
    "    for its in range(Nmax):\n",
    "        '''(save v from previous step)'''\n",
    "        w = v\n",
    "        ''' create new v'''\n",
    "        v = evalF(xk)\n",
    "        '''y_k = F(xk)-F(xk-1)'''\n",
    "        y = v-w;\n",
    "        '''-A_{k-1}^{-1}y_k'''\n",
    "        z = -A.dot(y)\n",
    "        ''' p = s_k^tA_{k-1}^{-1}y_k'''\n",
    "        p = -np.dot(s,z)\n",
    "        u = np.dot(s,A)\n",
    "        ''' A = A_k^{-1} via Morrison formula'''\n",
    "        tmp = s+z\n",
    "        tmp2 = np.outer(tmp,u)\n",
    "        A = A+1./p*tmp2\n",
    "        ''' -A_k^{-1}F(x_k)'''\n",
    "        s = -A.dot(v)\n",
    "        xk = xk+s\n",
    "        if (norm(s)<tol):\n",
    "            alpha = xk\n",
    "            ier = 0\n",
    "            return[alpha,ier,its]\n",
    "    alpha = xk\n",
    "    ier = 1\n",
    "    return[alpha,ier,its]\n",
    "\n",
    "driver()"
   ]
  },
  {
   "cell_type": "code",
   "execution_count": 14,
   "id": "d0abae7c-af5e-4f5f-88f9-fa95841f2f7e",
   "metadata": {},
   "outputs": [
    {
     "name": "stdout",
     "output_type": "stream",
     "text": [
      "[ 0.99860694 -0.10553049]\n",
      "Newton: the error message reads: 0\n",
      "Newton: took this many seconds: 0.0002868986129760742\n",
      "Netwon: number of iterations is: 3\n",
      "[ 0.99860694 -0.10553049]\n",
      "Lazy Newton: the error message reads: 0\n",
      "Lazy Newton: took this many seconds: 0.00015034675598144532\n",
      "Lazy Newton: number of iterations is: 7\n",
      "[ 0.99860694 -0.10553049]\n",
      "Broyden: the error message reads: 0\n",
      "Broyden: took this many seconds: 0.00025109052658081057\n",
      "Broyden: number of iterations is: 4\n",
      "[ 0.99860694 -0.10553049]\n",
      "Slacker Newton: the error message reads: 0\n",
      "Slacker Newton: took this many seconds: 0.0007268786430358887\n",
      "Slacker Newton: number of iterations is: 4\n"
     ]
    }
   ],
   "source": [
    "def SlackerNewton(x0,tol,Nmax):\n",
    "    ''' Lazy Newton = use only the inverse of the Jacobian for initial guess'''\n",
    "    ''' inputs: x0 = initial guess, tol = tolerance, Nmax = max its'''\n",
    "    ''' Outputs: xstar= approx root, ier = error message, its = num its'''\n",
    "    J = evalJ(x0)\n",
    "    Jinv = inv(J)\n",
    "    error_0 = 1e5\n",
    "    for its in range(Nmax):\n",
    "        F = evalF(x0)\n",
    "        x1 = x0 - Jinv.dot(F)\n",
    "        \n",
    "        if (norm(x1-x0) < tol):\n",
    "            xstar = x1\n",
    "            ier = 0\n",
    "            return[xstar, ier,its]\n",
    "        if norm(x1 - x0) < error_0:\n",
    "            J = evalJ(x0)\n",
    "            Jinv = inv(J)\n",
    "        error_0 = norm(x1-x0)\n",
    "\n",
    "            \n",
    "            \n",
    "        x0 = x1\n",
    "    xstar = x1\n",
    "    ier = 1\n",
    "    return[xstar,ier,its]\n",
    "\n",
    "driver()"
   ]
  },
  {
   "cell_type": "markdown",
   "id": "babfa764-a0dd-4312-8124-4110631633dd",
   "metadata": {},
   "source": [
    "## Question 3.3"
   ]
  },
  {
   "cell_type": "code",
   "execution_count": 21,
   "id": "d7c77df1-2a9f-42ff-8422-410546be6554",
   "metadata": {},
   "outputs": [
    {
     "name": "stdout",
     "output_type": "stream",
     "text": [
      "[ 0.99860694 -0.10553049]\n",
      "Newton: the error message reads: 0\n",
      "Newton: took this many seconds: 0.00012558460235595703\n",
      "Netwon: number of iterations is: 3\n",
      "[ 0.99860694 -0.10553049]\n",
      "Lazy Newton: the error message reads: 0\n",
      "Lazy Newton: took this many seconds: 0.0001275181770324707\n",
      "Lazy Newton: number of iterations is: 7\n",
      "[ 0.99860694 -0.10553049]\n",
      "Broyden: the error message reads: 0\n",
      "Broyden: took this many seconds: 0.00032362937927246096\n",
      "Broyden: number of iterations is: 4\n",
      "[ 0.99860694 -0.10553049]\n",
      "Slacker Newton: the error message reads: 0\n",
      "Slacker Newton: took this many seconds: 0.0006237387657165528\n",
      "Slacker Newton: number of iterations is: 4\n",
      "[ 0.99860694 -0.10553049]\n",
      "Slacker Newton Approx J: the error message reads: 0\n",
      "Slacker Newton Approx J: took this many seconds: 0.0005124211311340332\n",
      "Slacker Newton Approx J: number of iterations is: 5\n"
     ]
    }
   ],
   "source": [
    "def evalJ_new(x, h = 10e-3):\n",
    "    J = np.array([[((4*(x[0] + h)**2 + x[1]**2 - 4) - (4*x[0]**2 + x[1]**2 - 4))/h, \n",
    "                     ((4*x[0]**2 + (x[1] + h)**2 - 4) - (4*x[0]**2 + x[1]**2 - 4))/h],\n",
    "                  [((x[0] + h) + x[1] - np.sin((x[0] + h) - (x[1]) - x[0] + x[1] - np.sin(x[0]  - x[1])))/h,\n",
    "                   (x[0] + (x[1] + h) - np.sin(x[0] - (x[1] + h)) - (x[0] + x[1] - np.sin(x[0]  - x[1])))/h ]])\n",
    "    \n",
    "    return J\n",
    "    \n",
    "def SlackerNewton_approxJ(x0,tol,Nmax):\n",
    "    ''' Lazy Newton = use only the inverse of the Jacobian for initial guess'''\n",
    "    ''' inputs: x0 = initial guess, tol = tolerance, Nmax = max its'''\n",
    "    ''' Outputs: xstar= approx root, ier = error message, its = num its'''\n",
    "    J = evalJ_new(x0)\n",
    "    Jinv = inv(J)\n",
    "    error_0 = 1e5\n",
    "    for its in range(Nmax):\n",
    "        F = evalF(x0)\n",
    "        x1 = x0 - Jinv.dot(F)\n",
    "        \n",
    "        if (norm(x1-x0) < tol):\n",
    "            xstar = x1\n",
    "            ier = 0\n",
    "            return[xstar, ier,its]\n",
    "        if norm(x1 - x0) < error_0:\n",
    "            J = evalJ(x0)\n",
    "            Jinv = inv(J)\n",
    "        error_0 = norm(x1-x0)\n",
    "\n",
    "            \n",
    "            \n",
    "        x0 = x1\n",
    "    xstar = x1\n",
    "    ier = 1\n",
    "    return[xstar,ier,its]\n",
    "\n",
    "driver()"
   ]
  },
  {
   "cell_type": "markdown",
   "id": "fc96ebf5-128d-4a6b-916b-33e392793f02",
   "metadata": {},
   "source": [
    "Slacker Newton with approx J is the same as regular slacker newton"
   ]
  },
  {
   "cell_type": "code",
   "execution_count": null,
   "id": "a8f48512-bee0-4a97-a740-8b8fdc4aedfa",
   "metadata": {},
   "outputs": [],
   "source": []
  }
 ],
 "metadata": {
  "kernelspec": {
   "display_name": "Python 3 (ipykernel)",
   "language": "python",
   "name": "python3"
  },
  "language_info": {
   "codemirror_mode": {
    "name": "ipython",
    "version": 3
   },
   "file_extension": ".py",
   "mimetype": "text/x-python",
   "name": "python",
   "nbconvert_exporter": "python",
   "pygments_lexer": "ipython3",
   "version": "3.9.18"
  }
 },
 "nbformat": 4,
 "nbformat_minor": 5
}
