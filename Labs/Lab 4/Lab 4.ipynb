{
 "cells": [
  {
   "cell_type": "code",
   "execution_count": 2,
   "id": "366d6538-07d2-4bf8-aa82-cbff0407a12a",
   "metadata": {},
   "outputs": [],
   "source": [
    "import numpy as np"
   ]
  },
  {
   "cell_type": "code",
   "execution_count": 12,
   "id": "3c98370a-1312-4e04-96e8-ce6184e30b8f",
   "metadata": {},
   "outputs": [],
   "source": [
    "def driver():\n",
    "# test functions\n",
    "    f1 = lambda x: (10/(x+4))**0.5\n",
    "# fixed point is alpha1 = 1.4987....\n",
    "    #f2 = lambda x: (10/(x+4))**0.5\n",
    "#fixed point is alpha2 = 3.09...\n",
    "\n",
    "    Nmax = 100\n",
    "    tol = 1e-10\n",
    "    \n",
    "    #test f1 \n",
    "    x0 = 1.5\n",
    "    approx ,ier = fixedpt(f1,x0,tol,Nmax)\n",
    "    print('the approximate fixed point is:', approx)\n",
    "    print('Number of iterations for fixed point is:', len(approx))\n",
    "    print('f1(xstar):',f1(approx[-1]))\n",
    "    print('Error message reads:',ier)\n",
    "    aitken_ans, ier = aitken(approx, tol, Nmax)\n",
    "    print(\"Aitken Approx:\", aitken_ans)\n",
    "    print('Number of iterations for Aitkens is:', len(aitken_ans))\n",
    "    \n",
    "   \n",
    "    '''test f2 '''\n",
    "    # x0 = 1.5\n",
    "    # [xstar,ier] = fixedpt(f2,x0,tol,Nmax)\n",
    "    # print('the approximate fixed point is:',xstar)\n",
    "    # print('f2(xstar):',f2(xstar))\n",
    "    # print('Error message reads:',ier)\n",
    "    # # # define routines\n",
    "    \n",
    "def fixedpt(f,x0,tol,Nmax):\n",
    "    ''' x0 = initial guess'''\n",
    "    ''' Nmax = max number of iterations'''\n",
    "    ''' tol = stopping tolerance'''\n",
    "    count = 0\n",
    "    approx = []\n",
    "    while (count < Nmax):\n",
    "        \n",
    "        count = count + 1\n",
    "        x1 = f(x0)\n",
    "        \n",
    "        approx.append(x1)\n",
    "\n",
    "        if (abs(x1-x0) <tol):\n",
    "            xstar = x1\n",
    "            ier = 0\n",
    "            return approx, ier\n",
    "        x0 = x1\n",
    "    \n",
    "    xstar = x1\n",
    "    ier = 1\n",
    "\n",
    "    return approx, ier"
   ]
  },
  {
   "cell_type": "code",
   "execution_count": 13,
   "id": "c4b91c59-201c-4264-8ded-f5340eab830c",
   "metadata": {},
   "outputs": [
    {
     "name": "stdout",
     "output_type": "stream",
     "text": [
      "the approximate fixed point is: [1.348399724926484, 1.3673763719912828, 1.364957015402487, 1.3652647481134421, 1.365225594160525, 1.3652305756734338, 1.3652299418781833, 1.3652300225155685, 1.365230012256122, 1.3652300135614253, 1.3652300133953523, 1.3652300134164816]\n",
      "Number of iterations for fixed point is: 12\n",
      "f1(xstar): 1.3652300134137934\n",
      "Error message reads: 0\n",
      "Aitken Approx: [1.3652305845417765, 1.3652300226567435, 1.3652300135637154, 1.3652300134165187, 1.365230013414136]\n",
      "Number of iterations for Aitkens is: 5\n"
     ]
    }
   ],
   "source": [
    "def aitken(seq, tol, Nmax):\n",
    "    n = len(seq)\n",
    "    p0 = seq[0]\n",
    "    p1 = seq[1]\n",
    "    p2 = seq[2]\n",
    "    \n",
    "    aitken = []\n",
    "    aitken.append(p0-(p1-p0)**2/(p2-2*p1 + p0))\n",
    "    \n",
    "    count = 0\n",
    "    while (count < Nmax):\n",
    "        count = count + 1\n",
    "        \n",
    "        p0 = seq[count]\n",
    "        p1 = seq[count + 1]\n",
    "        p2 = seq[count + 2]\n",
    "        \n",
    "        pn = p0-(p1-p0)**2/(p2-2*p1 + p0)\n",
    "        \n",
    "        aitken.append(pn)\n",
    "        \n",
    "        if (abs(aitken[-2] - aitken[-1]) < tol):\n",
    "            ier_2 = 0\n",
    "            return aitken, ier_2\n",
    "    ier_2 = 1\n",
    "    return aitken, ier_2\n",
    "\n",
    "driver()"
   ]
  },
  {
   "cell_type": "markdown",
   "id": "45d6c797-e359-4684-a655-5439eff5835b",
   "metadata": {},
   "source": [
    " The convergence is faster than fixed point"
   ]
  },
  {
   "cell_type": "code",
   "execution_count": null,
   "id": "0ff3745b-829d-4ba5-8179-a66c66bd2ecd",
   "metadata": {},
   "outputs": [],
   "source": []
  }
 ],
 "metadata": {
  "kernelspec": {
   "display_name": "Python 3 (ipykernel)",
   "language": "python",
   "name": "python3"
  },
  "language_info": {
   "codemirror_mode": {
    "name": "ipython",
    "version": 3
   },
   "file_extension": ".py",
   "mimetype": "text/x-python",
   "name": "python",
   "nbconvert_exporter": "python",
   "pygments_lexer": "ipython3",
   "version": "3.9.13"
  }
 },
 "nbformat": 4,
 "nbformat_minor": 5
}
