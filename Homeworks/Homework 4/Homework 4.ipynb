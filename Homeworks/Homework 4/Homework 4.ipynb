{
 "cells": [
  {
   "cell_type": "code",
   "execution_count": 67,
   "id": "23030d5a-eaaa-4483-9676-db49232cd39d",
   "metadata": {},
   "outputs": [],
   "source": [
    "import numpy as np\n",
    "import matplotlib.pyplot as plt\n",
    "from scipy import special\n",
    "import math"
   ]
  },
  {
   "cell_type": "markdown",
   "id": "07e5e9c4-6d72-48e0-9371-859b137481e9",
   "metadata": {},
   "source": [
    "### Question 1a"
   ]
  },
  {
   "cell_type": "code",
   "execution_count": 68,
   "id": "a108c4dc-f645-4b72-b5f2-b4f75b088422",
   "metadata": {},
   "outputs": [
    {
     "data": {
      "image/png": "[encoded data removed]",
      "text/plain": [
       "<Figure size 640x480 with 1 Axes>"
      ]
     },
     "metadata": {},
     "output_type": "display_data"
    }
   ],
   "source": [
    "x = np.linspace(0, 2, 1000)\n",
    "t = 5.2*10**6\n",
    "alpha = 0.138*10**-6\n",
    "c = 1/2*np.sqrt(alpha*t)\n",
    "f = lambda x: -15 + 35*special.erf(x/2*(np.sqrt(alpha*t)))\n",
    "fp = lambda x: 35*(2/np.sqrt(np.pi))*np.e**(-(c*x)**2)\n",
    "\n",
    "plt.plot(x, f(x))\n",
    "plt.show()"
   ]
  },
  {
   "cell_type": "markdown",
   "id": "754587df-dd5d-4923-b4e8-4a09d631cad9",
   "metadata": {},
   "source": [
    "### Question 1b"
   ]
  },
  {
   "cell_type": "code",
   "execution_count": 69,
   "id": "e19e1111-4074-4f92-9ecb-e33bf867649e",
   "metadata": {},
   "outputs": [
    {
     "name": "stdout",
     "output_type": "stream",
     "text": [
      "Iterations: 43\n",
      "the approximate root is 0.9448240577650608\n",
      "the error message reads: 0\n",
      "f(astar) = 7.407408020299044e-13\n"
     ]
    }
   ],
   "source": [
    "def bisection(f,a,b,tol):\n",
    "    \n",
    "#    Inputs:\n",
    "#     f,a,b       - function and endpoints of initial interval\n",
    "#      tol  - bisection stops when interval length < tol\n",
    "\n",
    "#    Returns:\n",
    "#      astar - approximation of root\n",
    "#      ier   - error message\n",
    "#            - ier = 1 => Failed\n",
    "#            - ier = 0 == success\n",
    "\n",
    "#     first verify there is a root we can find in the interval \n",
    "\n",
    "    fa = f(a)\n",
    "    fb = f(b);\n",
    "    if (fa*fb>0):\n",
    "        ier = 1\n",
    "        astar = a\n",
    "        return [astar, ier]\n",
    "\n",
    "#   verify end points are not a root \n",
    "    if (fa == 0):\n",
    "        astar = a\n",
    "        ier =0\n",
    "        return [astar, ier]\n",
    "\n",
    "    if (fb == 0):\n",
    "        astar = b\n",
    "        ier = 0\n",
    "        return [astar, ier]\n",
    "\n",
    "    count = 0\n",
    "    d = 0.5*(a+b)\n",
    "    while (abs(d-a)> tol):\n",
    "        fd = f(d)\n",
    "        if (fd == 0):\n",
    "            astar = d\n",
    "            ier = 0\n",
    "            return [astar, ier]\n",
    "        if (fa*fd<0):\n",
    "            b = d\n",
    "        else: \n",
    "            a = d\n",
    "            fa = fd\n",
    "        d = 0.5*(a+b)\n",
    "        count = count +1\n",
    "        #print('abs(d-a) = ', abs(d-a))\n",
    "        #print(d)\n",
    "    print(\"Iterations:\", count)\n",
    "      \n",
    "    astar = d\n",
    "    ier = 0\n",
    "    return [astar, ier]\n",
    "\n",
    "\n",
    "def driver1b():\n",
    "\n",
    "# use routines \n",
    "    t = 5.2*10**6\n",
    "    alpha = 0.138*10**-6\n",
    "    f = lambda x: -15 + 35*special.erf(x/2*(np.sqrt(alpha*t)))\n",
    "    a = 0\n",
    "    b = 1\n",
    "\n",
    "\n",
    "    tol = 1e-13\n",
    "\n",
    "    [astar,ier] = bisection(f,a,b,tol)\n",
    "    print('the approximate root is',astar)\n",
    "    print('the error message reads:',ier)\n",
    "    print('f(astar) =', f(astar))\n",
    "    \n",
    "driver1b()"
   ]
  },
  {
   "cell_type": "markdown",
   "id": "542f8bc4-0ab8-44af-927e-3d55fda708e5",
   "metadata": {},
   "source": [
    "### Question 1c"
   ]
  },
  {
   "cell_type": "code",
   "execution_count": 70,
   "id": "ab5bb497-bdf2-4e3b-81d2-3e43da46166f",
   "metadata": {},
   "outputs": [
    {
     "name": "stdout",
     "output_type": "stream",
     "text": [
      "the approximate root is 9.4482405776511169e-01\n",
      "the error message reads: 0\n",
      "Number of iterations: 48\n"
     ]
    }
   ],
   "source": [
    "def driver1c():\n",
    "    #f = lambda x: (x-2)**3\n",
    "    #fp = lambda x: 3*(x-2)**2\n",
    "    #p0 = 1.2\n",
    "    f = lambda x: -15 + 35*special.erf(x/2*(np.sqrt(alpha*t)))\n",
    "    fp = lambda x: 35*(2/np.sqrt(np.pi))*np.e**(-(c*x)**2)\n",
    "    p0 = 1\n",
    "    Nmax = 10000\n",
    "    tol = 1e-13\n",
    "    (p,pstar,info,it) = newton(f,fp,p0,tol, Nmax)\n",
    "    print('the approximate root is', '%16.16e' % pstar)\n",
    "    print('the error message reads:', '%d' % info)\n",
    "    print('Number of iterations:', '%d' % it)\n",
    "    \n",
    "    \n",
    "def newton(f,fp,p0,tol,Nmax):\n",
    "    \"\"\"\n",
    "    Newton iteration.\n",
    "    Inputs:\n",
    "    f,fp - function and derivative\n",
    "    p0 - initial guess for root\n",
    "    tol - iteration stops when p_n,p_{n+1} are within tol\n",
    "    Nmax - max number of iterations\n",
    "    Returns:\n",
    "    p - an array of the iterates\n",
    "    pstar - the last iterate\n",
    "    info - success message\n",
    "    - 0 if we met tol\n",
    "    - 1 if we hit Nmax iterations (fail)\n",
    "    \"\"\"\n",
    "    p = np.zeros(Nmax+1);\n",
    "    p[0] = p0\n",
    "    for it in range(Nmax):\n",
    "        p1 = p0-f(p0)/fp(p0)\n",
    "        p[it+1] = p1\n",
    "        if (abs(p1-p0) < tol):\n",
    "            pstar = p1\n",
    "            info = 0\n",
    "            return [p,pstar,info,it]\n",
    "        p0 = p1\n",
    "    pstar = p1\n",
    "    info = 1\n",
    "    return [p,pstar,info,it]\n",
    "\n",
    "driver1c()\n"
   ]
  },
  {
   "cell_type": "markdown",
   "id": "a437b5f6-4060-4980-9ed5-fcfaf8298c2e",
   "metadata": {},
   "source": [
    "### Question 4"
   ]
  },
  {
   "cell_type": "code",
   "execution_count": 71,
   "id": "49443b55-b181-477d-8d67-7767dc574273",
   "metadata": {},
   "outputs": [
    {
     "name": "stdout",
     "output_type": "stream",
     "text": [
      "the approximate root is 3.7330790286329640e+00\n",
      "the error message reads: 0\n",
      "Number of iterations: 66\n"
     ]
    }
   ],
   "source": [
    "def driver4():  \n",
    "    \n",
    "    x0 = 4\n",
    "    \n",
    "\n",
    "    f = lambda x: math.e**(3*x) - 27*x**6 + 27*x**4*math.e**(x) - 9*x**2*math.e**(2*x)\n",
    "    fp = lambda x: 3*math.e**(3*x) - 162*x**5 + 108*x**3*math.e**(x) + 27*x**4*math.e**(x) - 18*x*math.e**(2*x) - 18*x**2*math.e**(2*x)\n",
    "    fpp = lambda x: 9*math.e**(3*x) - 810*x**4 + 324*x**2*math.e**(x) + 216*x**3*math.e**(x) + 27*x**4*math.e**(x) - 18*math.e**(2*x) - 36*x*math.e**(2*x) - 72*x*math.e**(2*x) - 36*x**2*math.e**(2*x)\n",
    "\n",
    "    \n",
    "    h = lambda x: (math.e**(x) - 3*x**2)**3\n",
    "    hp = lambda x: 3*((math.e**(x)-3*x**2)**2)*(math.e**(x) - 6*x)\n",
    "    hpp = lambda x: 3*(math.e**(x) - 3*x**2)*(2*(math.e**(x) - 6*x) + (math.e**x - 3*x**2)*(math.e**(x) - 6))\n",
    "    \n",
    "    gii = lambda x: h(x)/hp(x)\n",
    "    gpii = lambda x: 1 - h(x)*hpp(x)/(hp(x))**2\n",
    "    \n",
    "    giii = lambda x: x - 3*gii(x)\n",
    "    gpiii = lambda x: 1 - 3*gpii(x)\n",
    "    \n",
    "    \n",
    "    Nmax = 100\n",
    "    tol = 1e-13\n",
    "    \n",
    "    (p,pstar,info,it) = newton(gii, gpii, x0, tol, Nmax)\n",
    "    print('the approximate root is', '%16.16e' % pstar)\n",
    "    print('the error message reads:', '%d' % info)\n",
    "    print('Number of iterations:', '%d' % it)\n",
    "    \n",
    "    \n",
    "driver4()\n",
    "\n",
    "\n"
   ]
  },
  {
   "cell_type": "markdown",
   "id": "6d9910af-f53f-4e4a-9dec-a78290f15b35",
   "metadata": {},
   "source": [
    "### Question 5a"
   ]
  },
  {
   "cell_type": "code",
   "execution_count": 74,
   "id": "449f06bd-9e96-4a4d-a10f-46d9aeb68aaf",
   "metadata": {},
   "outputs": [
    {
     "name": "stdout",
     "output_type": "stream",
     "text": [
      "Iteration\tNewton Error\tSecant Error\n",
      "1\t\t0.545628272251\t0.118870967742\n",
      "2\t\t0.295738988239\t0.055577768677\n",
      "3\t\t0.119970956109\t0.017344169058\n",
      "4\t\t0.026538432773\t0.002468449784\n",
      "5\t\t0.001353274171\t0.000183191995\n",
      "6\t\t0.000269471656\t0.000276354051\n",
      "7\t\t0.000275861500\t0.000275861709\n",
      "8\t\t0.000275861598\t0.000275861598\n",
      "9\t\t0.000275861598\t0.000275861598\n",
      "10\t\t0.000275861598\t0.000275861598\n"
     ]
    },
    {
     "data": {
      "image/png": "[encoded data removed]",
      "text/plain": [
       "<Figure size 640x480 with 1 Axes>"
      ]
     },
     "metadata": {},
     "output_type": "display_data"
    }
   ],
   "source": [
    "x0_newton = 2\n",
    "errors_newton = []\n",
    "\n",
    "x0_secant = 2\n",
    "x1_secant = 1\n",
    "errors_secant = []\n",
    "\n",
    "f = lambda x: x**6 - x - 1\n",
    "df = lambda x: 6*x**5 - 1\n",
    "\n",
    "alpha = 1.135\n",
    "\n",
    "for i in range(10):\n",
    "    x_newton = x0_newton - f(x0_newton)/df(x0_newton)\n",
    "    error_newton = abs(x_newton - alpha)\n",
    "    errors_newton.append(error_newton)\n",
    "    x0_newton = x_newton\n",
    "    \n",
    "    x_secant = x1_secant - f(x1_secant)*(x1_secant - x0_secant)/(f(x1_secant) - f(x0_secant))\n",
    "    x0_secant, x1_secant = x1_secant, x_secant\n",
    "    error_secant = abs(x1_secant - alpha)\n",
    "    errors_secant.append(error_secant)\n",
    "    \n",
    "    \n",
    "print(\"Iteration\\tNewton Error\\tSecant Error\")\n",
    "for i in range(len(errors_newton)):\n",
    "    print(f'{i+1}\\t\\t{errors_newton[i]:.12f}\\t{errors_secant[i]:.12f}')\n",
    "\n",
    "    \n",
    "\n",
    "    \n",
    "    \n",
    "plt.loglog(errors_newton[:-1], errors_newton[1:], marker = 'o', label = \"Newton Method\")\n",
    "plt.loglog(errors_secant[:-1], errors_secant[1:], marker = 'o', label = \"Secant Method\")\n",
    "plt.legend()\n",
    "plt.grid(True)\n",
    "plt.xlabel(r\"log(|$x_{k} - \\alpha$|)\")\n",
    "plt.ylabel(r\"log(|$x_{k+1} - \\alpha$|)\")\n",
    "plt.title('Convergence Plot')\n",
    "plt.show()"
   ]
  },
  {
   "cell_type": "code",
   "execution_count": null,
   "id": "9dc0fe3c-b683-4427-8f33-38623dd6e4a9",
   "metadata": {},
   "outputs": [],
   "source": []
  },
  {
   "cell_type": "code",
   "execution_count": null,
   "id": "5f1fd7db-af37-460e-af87-e5c2f0780bbb",
   "metadata": {},
   "outputs": [],
   "source": []
  }
 ],
 "metadata": {
  "kernelspec": {
   "display_name": "Python 3 (ipykernel)",
   "language": "python",
   "name": "python3"
  },
  "language_info": {
   "codemirror_mode": {
    "name": "ipython",
    "version": 3
   },
   "file_extension": ".py",
   "mimetype": "text/x-python",
   "name": "python",
   "nbconvert_exporter": "python",
   "pygments_lexer": "ipython3",
   "version": "3.9.18"
  }
 },
 "nbformat": 4,
 "nbformat_minor": 5
}
