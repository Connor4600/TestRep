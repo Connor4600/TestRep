{
 "cells": [
  {
   "cell_type": "markdown",
   "id": "f732e261-97b3-46fb-aa80-5b612750dcff",
   "metadata": {},
   "source": [
    "# Question 1"
   ]
  },
  {
   "cell_type": "code",
   "execution_count": 1,
   "id": "d5fbfbf0-7ea1-43a1-a482-e208dba9973c",
   "metadata": {},
   "outputs": [],
   "source": [
    "import numpy as np\n",
    "import math\n",
    "import time\n",
    "from numpy.linalg import inv\n",
    "from numpy.linalg import norm"
   ]
  },
  {
   "cell_type": "markdown",
   "id": "e10d46cb-779a-45c1-8dfe-c2d4a2f9298e",
   "metadata": {},
   "source": [
    "### Question 1a"
   ]
  },
  {
   "cell_type": "code",
   "execution_count": 2,
   "id": "5029b059-ddca-47d6-a893-12fbcf187346",
   "metadata": {},
   "outputs": [
    {
     "name": "stdout",
     "output_type": "stream",
     "text": [
      "Converged to:  (0.5000000000477253, 0.8660254039274053)\n",
      "Number of Iterations:  33\n"
     ]
    }
   ],
   "source": [
    "f = lambda x, y : 3*x**2 - y**2\n",
    "g = lambda x, y : 3*x*y**2 - x**3 - 1\n",
    "\n",
    "x, y = 1, 1\n",
    "F = np.array([[f(x, y)], [g(x, y)]])\n",
    "J_inv = np.array([[1/6, 1/18], [0, 1/6]])\n",
    "\n",
    "Nmax = 100\n",
    "tol = 1e-10\n",
    "\n",
    "def Numerical(x, y, Nmax, tol):\n",
    "    its = 0\n",
    "    while its < Nmax:\n",
    "        x1 = x - (J_inv[0][0]*f(x, y) + J_inv[0][1]*g(x,y))\n",
    "        y1 = y - (J_inv[1][0]*f(x, y) + J_inv[1][1]*g(x,y))\n",
    "        \n",
    "        if abs(x1-x) < tol and abs(y1 - y) < tol:\n",
    "            break\n",
    "        \n",
    "        x = x1\n",
    "        y = y1\n",
    "        \n",
    "        \n",
    "        \n",
    "        its += 1\n",
    "    \n",
    "        \n",
    "    print(\"Converged to: \", (x, y))\n",
    "    print(\"Number of Iterations: \", its)\n",
    "    \n",
    "\n",
    "Numerical(x, y, Nmax, tol)\n",
    "\n",
    "\n"
   ]
  },
  {
   "cell_type": "markdown",
   "id": "13e8bf0b-79ab-4d08-bc02-0feae1b9a24a",
   "metadata": {},
   "source": [
    "### Question 1c"
   ]
  },
  {
   "cell_type": "code",
   "execution_count": 3,
   "id": "31aaacc0-cafd-4975-8fe0-afeeca6a4a24",
   "metadata": {},
   "outputs": [
    {
     "name": "stdout",
     "output_type": "stream",
     "text": [
      "[0.5       0.8660254]\n",
      "Newton: the error message reads: 0\n",
      "Newton: took this many seconds: 0.00027667999267578125\n",
      "Netwon: number of iterations is: 5\n"
     ]
    }
   ],
   "source": [
    "def driver():\n",
    "    x0 = np.array([1, 1])\n",
    "    Nmax = 100\n",
    "    tol = 1e-10\n",
    "    t = time.time()\n",
    "    for j in range(50):\n",
    "        [xstar,ier,its] = Newton(x0,tol,Nmax)\n",
    "    elapsed = time.time()-t\n",
    "    print(xstar)\n",
    "    print('Newton: the error message reads:',ier)\n",
    "    print('Newton: took this many seconds:',elapsed/50)\n",
    "    print('Netwon: number of iterations is:',its)\n",
    "    \n",
    "def evalF(x):\n",
    "    F = np.zeros(2)\n",
    "    F[0] = 3*x[0]**2 - x[1]**2\n",
    "    F[1] = 3*x[0]*x[1]**2 - x[0]**3 - 1\n",
    "    return F\n",
    "\n",
    "def evalJ(x):\n",
    "    J = np.array([[6*x[0], -2*x[1]], [3*x[1]**2 - 3*x[0]**2, 6*x[0]*x[1]]])\n",
    "    return J\n",
    "\n",
    "def Newton(x0,tol,Nmax):\n",
    "    ''' inputs: x0 = initial guess, tol = tolerance, Nmax = max its'''\n",
    "    ''' Outputs: xstar= approx root, ier = error message, its = num its'''\n",
    "    for its in range(Nmax):\n",
    "        J = evalJ(x0)\n",
    "        Jinv = inv(J)\n",
    "        F = evalF(x0)\n",
    "        x1 = x0 - Jinv.dot(F)\n",
    "        if (norm(x1-x0) < tol):\n",
    "            xstar = x1\n",
    "            ier =0\n",
    "            return[xstar, ier, its]\n",
    "        x0 = x1\n",
    "    xstar = x1\n",
    "    ier = 1\n",
    "    return[xstar,ier,its]\n",
    "\n",
    "driver()"
   ]
  },
  {
   "cell_type": "markdown",
   "id": "84110943-e9dc-478c-87f1-0288543daf21",
   "metadata": {},
   "source": [
    "### Question 3b"
   ]
  },
  {
   "cell_type": "code",
   "execution_count": 49,
   "id": "f80835b7-d084-4aa3-a91e-1858bda781bd",
   "metadata": {},
   "outputs": [
    {
     "name": "stdout",
     "output_type": "stream",
     "text": [
      "Converged to:  (1.0942389873994125, 1.3602684035387733, 1.3602684035387733)\n",
      "Number of Iterations:  34\n"
     ]
    }
   ],
   "source": [
    "x, y, z = 1, 1, 1\n",
    "\n",
    "Nmax = 100\n",
    "tol = 1e-10\n",
    "\n",
    "def Numerical(x, y, z, Nmax, tol):\n",
    "    its = 0\n",
    "    while its < Nmax:\n",
    "        d = (x**2 + 4*y**2 + 4*z**2 - 16)/(4*x**2 + 64*x**2 + 64*x**2)\n",
    "        fx, fy, fz = 2*x, 8*y, 8*z\n",
    "        x1 = x - d*fx\n",
    "        y1 = y - d*fy\n",
    "        z1 = z - d*fz\n",
    "        \n",
    "        if abs(x1-x) < tol and abs(y1 - y) < tol  and abs(z1 - z) < tol:\n",
    "            break\n",
    "            \n",
    "        x = x1\n",
    "        y = y1\n",
    "        z = z1\n",
    "        \n",
    "        its += 1\n",
    "    \n",
    "\n",
    "            \n",
    "    print(\"Converged to: \", (x, y, z))\n",
    "    print(\"Number of Iterations: \", its)\n",
    "    \n",
    "\n",
    "Numerical(x, y, z,  Nmax, tol)"
   ]
  },
  {
   "cell_type": "code",
   "execution_count": 59,
   "id": "9ba63356-ef77-4054-9e14-caa71fc6243b",
   "metadata": {},
   "outputs": [
    {
     "name": "stdout",
     "output_type": "stream",
     "text": [
      "Iteration\tx Errors\ty Errors\tz Errors\tTotal Errors\n",
      "1\t\t0.011821618661\t0.063974020704\t0.063974020704\t0.091241993171\n",
      "2\t\t0.008056489947\t0.038411853770\t0.038411853770\t0.054916737433\n",
      "3\t\t0.003685630777\t0.018747598620\t0.018747598620\t0.026768055257\n",
      "4\t\t0.002095518188\t0.010297371509\t0.010297371509\t0.014712678765\n",
      "5\t\t0.001065465451\t0.005331477506\t0.005331477506\t0.007614756819\n",
      "6\t\t0.000575093012\t0.002850161620\t0.002850161620\t0.004071556766\n",
      "7\t\t0.000300820352\t0.001498453287\t0.001498453287\t0.002140377861\n",
      "8\t\t0.000159995557\t0.000794835008\t0.000794835008\t0.001135395947\n",
      "9\t\t0.000084351258\t0.000419640507\t0.000419640507\t0.000599425930\n",
      "10\t\t0.000044678182\t0.000222103335\t0.000222103335\t0.000317263176\n"
     ]
    }
   ],
   "source": [
    "x_errors = []\n",
    "y_errors = []\n",
    "z_errors = []\n",
    "tot_errors = []\n",
    "\n",
    "x, y, z = 1, 1, 1\n",
    "\n",
    "for i in range(10):\n",
    "    d = (x**2 + 4*y**2 + 4*z**2 - 16)/(4*x**2 + 64*x**2 + 64*x**2)\n",
    "    fx, fy, fz = 2*x, 8*y, 8*z\n",
    "    \n",
    "    x1 = x - d*fx\n",
    "    x_error = abs(x1 - 1.0942389873994125)\n",
    "    x_errors.append(x_error)\n",
    "    x = x1\n",
    "    \n",
    "    y1 = y - d*fy\n",
    "    y_error = abs(y1 - 1.3602684035387733)\n",
    "    y_errors.append(y_error)\n",
    "    y = y1\n",
    "    \n",
    "    \n",
    "    z1 = z - d*fz\n",
    "    z_error = abs(z1 - 1.3602684035387733)\n",
    "    z_errors.append(z_error)\n",
    "    z = z1\n",
    "    vec = np.array([[x_error], [y_error], [z_error]])\n",
    "    total_error = norm(vec)\n",
    "    tot_errors.append(total_error)\n",
    "    \n",
    "print(\"Iteration\\tx Errors\\ty Errors\\tz Errors\\tTotal Errors\")\n",
    "for i in range(len(x_errors)):\n",
    "    print(f'{i+1}\\t\\t{x_errors[i]:.12f}\\t{y_errors[i]:.12f}\\t{z_errors[i]:.12f}\\t{tot_errors[i]:.12f}')   "
   ]
  },
  {
   "cell_type": "markdown",
   "id": "b7a13500-ddc5-489e-8f8e-b05c6daa900c",
   "metadata": {},
   "source": [
    "My Method does not neccessarily show quadratic convergence, but value of $x_{n+1}, y_{n+1}, z_{n+1}$ uses Newtons Method, and with Newtons Method for systems if it converges, it converges quadratically."
   ]
  },
  {
   "cell_type": "code",
   "execution_count": null,
   "id": "c881fa63-25da-47ae-b28c-8dc53286f8ee",
   "metadata": {},
   "outputs": [],
   "source": []
  }
 ],
 "metadata": {
  "kernelspec": {
   "display_name": "Python 3 (ipykernel)",
   "language": "python",
   "name": "python3"
  },
  "language_info": {
   "codemirror_mode": {
    "name": "ipython",
    "version": 3
   },
   "file_extension": ".py",
   "mimetype": "text/x-python",
   "name": "python",
   "nbconvert_exporter": "python",
   "pygments_lexer": "ipython3",
   "version": "3.9.18"
  }
 },
 "nbformat": 4,
 "nbformat_minor": 5
}
